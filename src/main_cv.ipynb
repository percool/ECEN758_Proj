{
 "cells": [
  {
   "cell_type": "code",
   "execution_count": 1,
   "metadata": {},
   "outputs": [],
   "source": [
    "import torch\n",
    "import torchvision\n",
    "from torch import nn\n",
    "from torch.utils.data import DataLoader\n",
    "from torchvision import datasets\n",
    "from torchvision.transforms import ToTensor\n",
    "from torchvision import transforms\n",
    "from torchvision.transforms import v2\n",
    "import numpy as np\n",
    "# import PIL"
   ]
  },
  {
   "cell_type": "code",
   "execution_count": 2,
   "metadata": {},
   "outputs": [],
   "source": [
    "# import data\n",
    "folder=\"./dataset\"\n",
    "# transform = transforms.Compose([transforms.ToTensor()])\n",
    "# transform = transforms.Compose([transforms.Resize((224, 224))])\n",
    "data_train_val=torchvision.datasets.FashionMNIST(root=folder,train=True,download=True,transform=None)\n",
    "data_test=torchvision.datasets.FashionMNIST(root=folder,train=False,download=True,transform=None)"
   ]
  },
  {
   "cell_type": "code",
   "execution_count": 3,
   "metadata": {},
   "outputs": [],
   "source": [
    "classes=data_test.classes"
   ]
  },
  {
   "cell_type": "code",
   "execution_count": 4,
   "metadata": {},
   "outputs": [],
   "source": [
    "# import matplotlib.pyplot as plt\n",
    "# figure = plt.figure(figsize = (8,8))\n",
    "# cols, rows = 4, 4\n",
    "# ids=torch.randint(len(data_test), size = (cols*rows,))\n",
    "# for i in range (1, cols*rows + 1):\n",
    "#     image, label = data_test[ids[i-1].item()]\n",
    "#     figure.add_subplot(rows, cols, i)\n",
    "#     plt.title(classes[label])\n",
    "#     plt.axis('off')\n",
    "#     plt.imshow(image.squeeze(), cmap='gray')\n",
    "#     # plt.imshow(image.squeeze())\n",
    "# plt.show()"
   ]
  },
  {
   "cell_type": "code",
   "execution_count": 5,
   "metadata": {},
   "outputs": [
    {
     "data": {
      "text/plain": [
       "torch.Size([10000, 28, 28])"
      ]
     },
     "execution_count": 5,
     "metadata": {},
     "output_type": "execute_result"
    }
   ],
   "source": [
    "# data_train_val.data[:2000].shape\n",
    "data_test.data.shape\n",
    "# type(data_train_val.data)\n",
    "# data_test.targets.shape"
   ]
  },
  {
   "cell_type": "markdown",
   "metadata": {},
   "source": [
    "### Data Preparation (10 points)\n",
    "- (a) Data cleansing and transformation (5 points)"
   ]
  },
  {
   "cell_type": "code",
   "execution_count": 6,
   "metadata": {},
   "outputs": [],
   "source": [
    "class dataset(torch.utils.data.Dataset):\n",
    "    def __init__(self, inputs, targets, trans=None):\n",
    "        self.x = inputs\n",
    "        self.y = targets\n",
    "        self.trans=trans\n",
    "\n",
    "    def __len__(self):\n",
    "        return self.x.size()[0]\n",
    "\n",
    "    def __getitem__(self, idx):\n",
    "\n",
    "        if self.trans == None:\n",
    "            # print(\"no trans\")\n",
    "            return ( self.x[idx], self.y[idx])\n",
    "        else:\n",
    "            # print(\"trans\")\n",
    "            return ( self.trans(self.x[idx]), self.y[idx]) \n",
    "\n",
    "def ds_trans(ds_input,trans_flag):\n",
    "    data_input=ds_input.data.clone().detach()\n",
    "    labels_input=ds_input.targets\n",
    "    if data_input.ndim <= 3:\n",
    "        transform_train_val = transforms.Compose([\n",
    "            transforms.ToPILImage(),\n",
    "            transforms.Resize((64, 64)), \n",
    "            transforms.RandomHorizontalFlip(0.5),\n",
    "            transforms.RandomAffine(degrees=(0,3), translate=(0,0.05), scale=None, shear=(0,0.05)),\n",
    "            transforms.RandomResizedCrop(size=(64,64),scale=(0.9,1.0),ratio=(0.9,1.1)),\n",
    "            transforms.ToTensor(),\n",
    "            transforms.Normalize(0.5, 0.5)\n",
    "        ])\n",
    "        transform_test = transforms.Compose([\n",
    "            transforms.ToPILImage(),\n",
    "            transforms.Resize((64, 64)), \n",
    "            transforms.ToTensor(),\n",
    "             transforms.Normalize(0.5, 0.5)\n",
    "        ])\n",
    "    elif data_input.ndim == 4:\n",
    "        # Should not come here\n",
    "        print(\"WRONG!\")\n",
    "\n",
    "    if torch.isnan(data_input).any():\n",
    "        print(\"have NaN or Inf\")\n",
    "    data_input = data_input[:,None,:,:]\n",
    "    print(data_input.shape)\n",
    "    \n",
    "    if trans_flag==1:\n",
    "        flag_ds_new = dataset(data_input, labels_input, trans=transform_train_val)\n",
    "    elif trans_flag==2:\n",
    "        flag_ds_new = dataset(data_input, labels_input, trans=transform_test)\n",
    "    else:\n",
    "        flag_ds_new = dataset(data_input, labels_input, trans=None)\n",
    "    return (flag_ds_new)\n",
    "    "
   ]
  },
  {
   "cell_type": "code",
   "execution_count": 7,
   "metadata": {},
   "outputs": [
    {
     "data": {
      "text/plain": [
       "'0.16.0'"
      ]
     },
     "execution_count": 7,
     "metadata": {},
     "output_type": "execute_result"
    }
   ],
   "source": [
    "torchvision.__version__"
   ]
  },
  {
   "cell_type": "code",
   "execution_count": 8,
   "metadata": {},
   "outputs": [
    {
     "name": "stdout",
     "output_type": "stream",
     "text": [
      "torch.Size([60000, 1, 28, 28])\n",
      "torch.Size([10000, 1, 28, 28])\n"
     ]
    }
   ],
   "source": [
    "ds_processed_train_val=ds_trans(ds_input=data_train_val,trans_flag=1)\n",
    "ds_processed_test=ds_trans(ds_input=data_test,trans_flag=2)\n",
    "# ds_processed.x.shape"
   ]
  },
  {
   "cell_type": "markdown",
   "metadata": {},
   "source": [
    "- (b) Data splitting (i.e., training, validation, and test splits) (5 points)"
   ]
  },
  {
   "cell_type": "code",
   "execution_count": 9,
   "metadata": {},
   "outputs": [],
   "source": [
    "from torch.utils.data.sampler import SubsetRandomSampler\n",
    "\n",
    "random_seed=22\n",
    "indices = list(range(data_train_val.targets.shape[0]))\n",
    "np.random.seed(random_seed)\n",
    "np.random.shuffle(indices)\n",
    "\n",
    "indices_train=indices[:50000]\n",
    "indices_val=indices[50000:]\n",
    "\n",
    "ds_processed_train_sampler=SubsetRandomSampler(indices_train)\n",
    "ds_processed_val_sampler=SubsetRandomSampler(indices_val)\n",
    "\n",
    "# batch_size=64\n",
    "batch_size=256\n",
    "num_workers=10\n",
    "loader_train = torch.utils.data.DataLoader(ds_processed_train_val, batch_size=batch_size,sampler=ds_processed_train_sampler,\n",
    "                                            num_workers=num_workers)\n",
    "loader_val = torch.utils.data.DataLoader(ds_processed_train_val, batch_size=batch_size,sampler=ds_processed_val_sampler,\n",
    "                                            num_workers=num_workers)\n",
    "loader_test = torch.utils.data.DataLoader(ds_processed_test, batch_size=batch_size,\n",
    "                                          shuffle=True, num_workers=num_workers)"
   ]
  },
  {
   "cell_type": "code",
   "execution_count": 10,
   "metadata": {},
   "outputs": [
    {
     "name": "stdout",
     "output_type": "stream",
     "text": [
      "torch.Size([256, 1, 64, 64])\n",
      "torch.Size([256])\n"
     ]
    }
   ],
   "source": [
    "for batch_idx, (inputs, targets) in enumerate(loader_train):\n",
    "    break\n",
    "print(inputs.shape)\n",
    "print(targets.shape)"
   ]
  },
  {
   "cell_type": "markdown",
   "metadata": {},
   "source": [
    "## Model"
   ]
  },
  {
   "cell_type": "code",
   "execution_count": 11,
   "metadata": {},
   "outputs": [],
   "source": [
    "from sklearn.metrics import confusion_matrix\n",
    "from sklearn.metrics import accuracy_score, precision_score, recall_score, f1_score\n",
    "\n",
    "def trainloop (dataloader, model, loss_fn, optimizer,device):\n",
    "    size = len(dataloader.dataset)\n",
    "    model.train()\n",
    "    for batch, (X,y) in enumerate(dataloader):\n",
    "        X,y=X.to(device),y.to(device)\n",
    "        \n",
    "        # Compute the error rate\n",
    "        prediction = model(X)\n",
    "        loss = loss_fn(prediction, y)\n",
    "        \n",
    "        # Backpropagation\n",
    "        optimizer.zero_grad()\n",
    "        loss.backward()\n",
    "        optimizer.step()\n",
    "        \n",
    "        if batch % 100 == 0:\n",
    "            loss, current = loss.item(), batch*len(X)\n",
    "            print(f'loss:{loss:>7f} [{current:>5d}/{size:>5d}]')\n",
    "            \n",
    "def evaluate (dataloader, model, loss_fn,device):\n",
    "    # size = len(dataloader.dataset)\n",
    "    size = len(dataloader.sampler)\n",
    "    num_batches = len(dataloader)\n",
    "    model.eval()\n",
    "    test_loss, correct = 0, 0\n",
    "    Y_pred=[]\n",
    "    Y_true=[]\n",
    "    with torch.no_grad():\n",
    "        for X,y in dataloader:\n",
    "            X,y = X.to(device),y.to(device)\n",
    "            pred = model(X)\n",
    "            test_loss += loss_fn(pred, y).item()\n",
    "            correct += (pred.argmax(1) == y).type(torch.float).sum().item()\n",
    "            Y_pred.append(pred.argmax(1).cpu().numpy())\n",
    "            Y_true.append(y.cpu().numpy())\n",
    "    test_loss /= num_batches\n",
    "    correct /= size\n",
    "    print(f'Accuracy: {(100*correct):>0.1f}%, Avg loss: {test_loss:>8f} \\n')\n",
    "    accuracy=100*correct\n",
    "    Y_pred=np.concatenate(Y_pred)\n",
    "    Y_true=np.concatenate(Y_true)\n",
    "    accuracy2=accuracy_score(Y_true,Y_pred)\n",
    "    # print(f'Accuracy2: {(accuracy2*100):>0.1f}')\n",
    "    precision = precision_score(Y_true, Y_pred, average='micro')\n",
    "    recall = recall_score(Y_true, Y_pred, average='micro')\n",
    "    f1 = f1_score(Y_true, Y_pred, average='micro')\n",
    "    cm = confusion_matrix(Y_true, Y_pred)\n",
    "    return [accuracy, precision, recall, f1, test_loss], cm"
   ]
  },
  {
   "cell_type": "code",
   "execution_count": 12,
   "metadata": {},
   "outputs": [],
   "source": [
    "# model2 = torch.hub.load('pytorch/vision:v0.10.0', 'densenet121', pretrained=False)\n",
    "# model2.features[0]\n"
   ]
  },
  {
   "cell_type": "code",
   "execution_count": 13,
   "metadata": {},
   "outputs": [],
   "source": [
    "import torchvision\n",
    "def build_train_model(loader_train,loader_val,loader_test,learning_rate,id_optimizer):\n",
    "    device ='cuda' if torch.cuda.is_available else 'cpu'\n",
    "    print(f'Using {device} device')\n",
    "    # model = torch.hub.load('pytorch/vision:v0.10.0', 'wide_resnet50_2', pretrained=True)\n",
    "    # model=torchvision.models.vgg11()\n",
    "    # model = torch.hub.load('pytorch/vision:v0.10.0', 'densenet121', pretrained=False)\n",
    "    # model = torch.hub.load('pytorch/vision:v0.10.0', 'densenet121', weights='DenseNet121_Weights.IMAGENET1K_V1')\n",
    "    model=torchvision.models.squeezenet1_0(weights='SqueezeNet1_0_Weights.IMAGENET1K_V1')\n",
    "    \n",
    "    # model\n",
    "    # model.conv1=torch.nn.Conv2d(1, 64, kernel_size=(7, 7), stride=(2, 2), padding=(3, 3), bias=False)\n",
    "    # model.features[0]=torch.nn.Conv2d(1, 64, kernel_size=(3, 3), stride=(1, 1), padding=(1, 1)) # vgg\n",
    "    # model.features[0]=torch.nn.Conv2d(1, 64, kernel_size=(7, 7), stride=(2, 2), padding=(3, 3)) # densenet121\n",
    "    model.features[0]=torch.nn.Conv2d(1, 96, kernel_size=(7, 7), stride=(2, 2)) # SqueezeNet\n",
    "\n",
    "    model=model.to(device)\n",
    "    # model\n",
    "\n",
    "    # Define hyperparameters\n",
    "    # learning_rate = 1e-4\n",
    "    epochs = 100\n",
    "\n",
    "    # Loss Function\n",
    "    loss_fn = nn.CrossEntropyLoss()\n",
    "    # loss_fn = nn.MSELoss(reduction='sum')\n",
    "\n",
    "    # Optimizer\n",
    "    if id_optimizer==0:\n",
    "        optimizer = torch.optim.Adam(model.parameters(), lr=learning_rate)\n",
    "    elif id_optimizer==1:\n",
    "        optimizer = torch.optim.RMSprop(model.parameters(), lr=learning_rate)\n",
    "    elif id_optimizer==2:\n",
    "        optimizer = torch.optim.SGD(model.parameters(), lr=learning_rate, momentum=0.9)\n",
    "    \n",
    "\n",
    "    for i in range(epochs):\n",
    "        print(f\"Epoch {i+1}\")\n",
    "        # print(f\"Epoch {i+1}\\n-------------------------------\")\n",
    "        trainloop(loader_train, model, loss_fn, optimizer,device)\n",
    "        # print(\"Training Dataset Error:\")\n",
    "        # evaluate(loader_train, model, loss_fn,device)\n",
    "        # print(\"Validation Dataset Error:\");\n",
    "        # evaluate(loader_val, model, loss_fn,device)\n",
    "        # print(\"Test Dataset Error:\");\n",
    "        # evaluate(loader_test, model, loss_fn,device)\n",
    "    \n",
    "    # Acc=np.zeros(3)\n",
    "    # Loss=np.zeros(3)\n",
    "    # print(\"Training Dataset Error:\")\n",
    "    # Acc[0],Loss[0]=evaluate(loader_train, model, loss_fn,device)\n",
    "    # print(\"Validation Dataset Error:\");\n",
    "    # Acc[1],Loss[1]=evaluate(loader_val, model, loss_fn,device)\n",
    "    # print(\"Test Dataset Error:\");\n",
    "    # Acc[2],Loss[2]=evaluate(loader_test, model, loss_fn,device)\n",
    "\n",
    "    print(\"Training Dataset Error:\")\n",
    "    result_train,cm_train=evaluate(loader_train, model, loss_fn,device)\n",
    "    print(\"Validation Dataset Error:\");\n",
    "    result_val,cm_val=evaluate(loader_val, model, loss_fn,device)\n",
    "    print(\"Test Dataset Error:\");\n",
    "    result_test,cm_test=evaluate(loader_test, model, loss_fn,device)\n",
    "\n",
    "    results=[result_train,result_val,result_test]\n",
    "\n",
    "    return results,cm_val"
   ]
  },
  {
   "cell_type": "code",
   "execution_count": 14,
   "metadata": {},
   "outputs": [],
   "source": [
    "def split_6_fold(index,ds_processed_train_val,ds_processed_test,indices):\n",
    "    N=ds_processed_train_val.y.shape[0]\n",
    "    nsub=int(N/6)\n",
    "    # indices_train=indices[:50000]\n",
    "    indices_train=[indices[i] for i in range(N) if i <index*nsub or i >=(index+1)*nsub]\n",
    "    indices_val=indices[index*nsub:(index+1)*nsub]\n",
    "\n",
    "    ds_processed_train_sampler=SubsetRandomSampler(indices_train)\n",
    "    ds_processed_val_sampler=SubsetRandomSampler(indices_val)\n",
    "\n",
    "    # batch_size=64\n",
    "    batch_size=512\n",
    "    num_workers=10\n",
    "    loader_train = torch.utils.data.DataLoader(ds_processed_train_val, batch_size=batch_size,sampler=ds_processed_train_sampler,\n",
    "                                                num_workers=num_workers)\n",
    "    loader_val = torch.utils.data.DataLoader(ds_processed_train_val, batch_size=batch_size,sampler=ds_processed_val_sampler,\n",
    "                                                num_workers=num_workers)\n",
    "    loader_test = torch.utils.data.DataLoader(ds_processed_test, batch_size=batch_size,\n",
    "                                            shuffle=True, num_workers=num_workers)\n",
    "    return  loader_train,loader_val,loader_test"
   ]
  },
  {
   "cell_type": "code",
   "execution_count": 15,
   "metadata": {},
   "outputs": [],
   "source": [
    "from sklearn.metrics import confusion_matrix, ConfusionMatrixDisplay\n",
    "import matplotlib.pyplot as plt\n",
    "def one_iteration(learning_rate, id_optimizer,indices):\n",
    "    # learning_rate=1e-4\n",
    "    # id_optimizer=0\n",
    "    ACC=[]\n",
    "    LOSS=[]\n",
    "    Results=[]\n",
    "    CM_val=[]\n",
    "    for i in range(6):\n",
    "        print(f\"Fold {i}\\n-------------------------------\")\n",
    "        loader_train,loader_val,loader_test=split_6_fold(i,ds_processed_train_val,ds_processed_test,indices)\n",
    "        results,cm_val=build_train_model(loader_train,loader_val,loader_test,learning_rate,id_optimizer)\n",
    "        results=np.array(results)\n",
    "        Results.append(results)\n",
    "        CM_val.append(cm_val)\n",
    "    Results=np.array(Results) # dim0: i from 0-5; dim1: train, val, test; dim2: acc, precision, recall, f1 score, loss\n",
    "    Results_ave=np.mean(Results,0) #dim0: train, val, test; dim1: acc, precision, recall, f1 score, loss\n",
    "    try:\n",
    "        CM_val_ave=np.mean(CM_val,0)\n",
    "        CM_val_ave_percent=CM_val_ave/np.sum(CM_val_ave)*100\n",
    "        print(\"np.sum(CM_val_ave)=\",np.sum(CM_val_ave)) # close to 10000. Correct\n",
    "        # ACC=Results_ave[:,0]\n",
    "        # LOSS=Results_ave[:,4]\n",
    "        # print(\"ACC:\\nAve: \",np.mean(ACC,0),\"std: \",np.std(ACC,0))\n",
    "        # print(\"LOSS:\\nAve: \",np.mean(LOSS,0),\"std: \",np.std(LOSS,0))\n",
    "        print(\"Results_ave: \\nacc, precision, recall, f1 score, loss\")\n",
    "        print(Results_ave)\n",
    "        print(\"Confusion Matrix: \\n\",CM_val_ave_percent)\n",
    "        classes_id=['0','1','2','3','4','5','6','7','8','9']\n",
    "        # print(classes)\n",
    "        disp = ConfusionMatrixDisplay(confusion_matrix=np.round(CM_val_ave_percent,1),\n",
    "                                display_labels=classes_id)\n",
    "        disp.plot()\n",
    "        plt.show()\n",
    "    except:\n",
    "        print(\"Failed to plot.\")\n",
    "\n",
    "    return Results_ave"
   ]
  },
  {
   "cell_type": "code",
   "execution_count": 16,
   "metadata": {},
   "outputs": [
    {
     "data": {
      "text/plain": [
       "array([[[2.  , 1.  , 3.  ],\n",
       "        [1.  , 2.  , 3.  ]],\n",
       "\n",
       "       [[3.15, 2.  , 4.  ],\n",
       "        [1.  , 2.  , 3.  ]]])"
      ]
     },
     "execution_count": 16,
     "metadata": {},
     "output_type": "execute_result"
    }
   ],
   "source": [
    "a=np.array([2,1,3])\n",
    "b=np.array([1,2,3])\n",
    "ab=[a,b]\n",
    "ab=np.array(ab)\n",
    "\n",
    "c=np.array([3.15154,2,4])\n",
    "d=np.array([1,2,3])\n",
    "cd=[c,d]\n",
    "cd=np.array(cd)\n",
    "\n",
    "abcd=[ab,cd]\n",
    "abcd=np.array(abcd)\n",
    "abcd\n",
    "np.mean(abcd,0)\n",
    "\n",
    "np.round(abcd,2)"
   ]
  },
  {
   "cell_type": "code",
   "execution_count": 17,
   "metadata": {},
   "outputs": [
    {
     "name": "stdout",
     "output_type": "stream",
     "text": [
      "id_optimizer: 0\tlearning_rate: 0.001 \n",
      "-----------------------------------------------------------\n",
      "Fold 0\n",
      "-------------------------------\n",
      "Using cuda device\n",
      "Epoch 1\n",
      "loss:16.356211 [    0/60000]\n",
      "Epoch 2\n",
      "loss:2.525099 [    0/60000]\n",
      "Epoch 3\n",
      "loss:1.730583 [    0/60000]\n",
      "Epoch 4\n",
      "loss:1.359918 [    0/60000]\n",
      "Epoch 5\n",
      "loss:1.119316 [    0/60000]\n",
      "Epoch 6\n",
      "loss:0.905924 [    0/60000]\n",
      "Epoch 7\n",
      "loss:0.794874 [    0/60000]\n",
      "Epoch 8\n",
      "loss:0.726801 [    0/60000]\n",
      "Epoch 9\n",
      "loss:0.667917 [    0/60000]\n",
      "Epoch 10\n",
      "loss:0.644572 [    0/60000]\n",
      "Epoch 11\n",
      "loss:0.623728 [    0/60000]\n",
      "Epoch 12\n",
      "loss:0.557908 [    0/60000]\n",
      "Epoch 13\n",
      "loss:0.511955 [    0/60000]\n",
      "Epoch 14\n",
      "loss:0.489643 [    0/60000]\n",
      "Epoch 15\n",
      "loss:0.492573 [    0/60000]\n",
      "Epoch 16\n",
      "loss:0.473247 [    0/60000]\n",
      "Epoch 17\n",
      "loss:0.472517 [    0/60000]\n",
      "Epoch 18\n",
      "loss:0.453357 [    0/60000]\n",
      "Epoch 19\n",
      "loss:0.467518 [    0/60000]\n",
      "Epoch 20\n",
      "loss:0.483820 [    0/60000]\n",
      "Epoch 21\n",
      "loss:0.407070 [    0/60000]\n",
      "Epoch 22\n",
      "loss:0.410953 [    0/60000]\n",
      "Epoch 23\n",
      "loss:0.414772 [    0/60000]\n",
      "Epoch 24\n",
      "loss:0.399074 [    0/60000]\n",
      "Epoch 25\n",
      "loss:0.398778 [    0/60000]\n",
      "Epoch 26\n",
      "loss:0.350551 [    0/60000]\n",
      "Epoch 27\n",
      "loss:0.385308 [    0/60000]\n",
      "Epoch 28\n",
      "loss:0.348078 [    0/60000]\n",
      "Epoch 29\n",
      "loss:0.360035 [    0/60000]\n",
      "Epoch 30\n",
      "loss:0.331881 [    0/60000]\n",
      "Epoch 31\n",
      "loss:0.347188 [    0/60000]\n",
      "Epoch 32\n",
      "loss:0.350577 [    0/60000]\n",
      "Epoch 33\n",
      "loss:0.325792 [    0/60000]\n",
      "Epoch 34\n",
      "loss:0.314858 [    0/60000]\n",
      "Epoch 35\n",
      "loss:0.326341 [    0/60000]\n",
      "Epoch 36\n",
      "loss:0.364685 [    0/60000]\n",
      "Epoch 37\n",
      "loss:0.326517 [    0/60000]\n",
      "Epoch 38\n",
      "loss:0.327690 [    0/60000]\n",
      "Epoch 39\n",
      "loss:0.308145 [    0/60000]\n",
      "Epoch 40\n",
      "loss:0.335807 [    0/60000]\n",
      "Epoch 41\n",
      "loss:0.295002 [    0/60000]\n",
      "Epoch 42\n",
      "loss:0.284158 [    0/60000]\n",
      "Epoch 43\n",
      "loss:0.279665 [    0/60000]\n",
      "Epoch 44\n",
      "loss:0.285727 [    0/60000]\n",
      "Epoch 45\n",
      "loss:0.289436 [    0/60000]\n",
      "Epoch 46\n",
      "loss:0.274546 [    0/60000]\n",
      "Epoch 47\n",
      "loss:0.292120 [    0/60000]\n",
      "Epoch 48\n",
      "loss:0.285663 [    0/60000]\n",
      "Epoch 49\n",
      "loss:0.271538 [    0/60000]\n"
     ]
    }
   ],
   "source": [
    "random_seed=22\n",
    "indices = list(range(ds_processed_train_val.y.shape[0]))\n",
    "np.random.seed(random_seed)\n",
    "np.random.shuffle(indices)\n",
    "Results_all=[]\n",
    "for id_optimizer in [0,1,2]:\n",
    "    for learning_rate in [1e-3,1e-4,1e-5]:\n",
    "        print(f\"id_optimizer: {id_optimizer}\\tlearning_rate: {learning_rate} \\n-----------------------------------------------------------\")\n",
    "        Results_ave= one_iteration(learning_rate,id_optimizer,indices)\n",
    "        Results_all.append([id_optimizer, learning_rate, Results_ave])\n",
    "        print('####################################################')"
   ]
  },
  {
   "cell_type": "code",
   "execution_count": null,
   "metadata": {},
   "outputs": [
    {
     "data": {
      "text/plain": [
       "[[0,\n",
       "  0.001,\n",
       "  array([[18.73733333,  0.18737333,  0.18737333,  0.18737333,  2.05188782],\n",
       "         [18.55333333,  0.18553333,  0.18553333,  0.18553333,  2.05249282],\n",
       "         [19.21      ,  0.1921    ,  0.1921    ,  0.1921    ,  2.04551729]])],\n",
       " [0,\n",
       "  0.0001,\n",
       "  array([[71.86733333,  0.71867333,  0.71867333,  0.71867333,  0.76765054],\n",
       "         [71.99333333,  0.71993333,  0.71993333,  0.71993333,  0.76360032],\n",
       "         [72.3       ,  0.723     ,  0.723     ,  0.723     ,  0.76092842]])],\n",
       " [1,\n",
       "  0.001,\n",
       "  array([[33.06133333,  0.33061333,  0.33061333,  0.33061333,  2.12206863],\n",
       "         [32.79      ,  0.3279    ,  0.3279    ,  0.3279    ,  2.1218404 ],\n",
       "         [32.74666667,  0.32746667,  0.32746667,  0.32746667,  2.11988274]])],\n",
       " [1,\n",
       "  0.0001,\n",
       "  array([[13.73266667,  0.13732667,  0.13732667,  0.13732667,  6.30737782],\n",
       "         [13.42666667,  0.13426667,  0.13426667,  0.13426667,  6.30826241],\n",
       "         [12.89333333,  0.12893333,  0.12893333,  0.12893333,  6.29778263]])]]"
      ]
     },
     "execution_count": 17,
     "metadata": {},
     "output_type": "execute_result"
    }
   ],
   "source": [
    "Results_all"
   ]
  }
 ],
 "metadata": {
  "kernelspec": {
   "display_name": "fashion",
   "language": "python",
   "name": "python3"
  },
  "language_info": {
   "codemirror_mode": {
    "name": "ipython",
    "version": 3
   },
   "file_extension": ".py",
   "mimetype": "text/x-python",
   "name": "python",
   "nbconvert_exporter": "python",
   "pygments_lexer": "ipython3",
   "version": "3.10.13"
  }
 },
 "nbformat": 4,
 "nbformat_minor": 2
}
