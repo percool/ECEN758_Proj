{
 "cells": [
  {
   "cell_type": "code",
   "execution_count": 1,
   "metadata": {},
   "outputs": [],
   "source": [
    "import torch\n",
    "import torchvision\n",
    "from torch import nn\n",
    "from torch.utils.data import DataLoader\n",
    "from torchvision import datasets\n",
    "from torchvision.transforms import ToTensor\n",
    "from torchvision import transforms\n",
    "from torchvision.transforms import v2\n",
    "import numpy as np\n",
    "# import PIL"
   ]
  },
  {
   "cell_type": "code",
   "execution_count": 2,
   "metadata": {},
   "outputs": [
    {
     "data": {
      "text/plain": [
       "'0.16.0'"
      ]
     },
     "execution_count": 2,
     "metadata": {},
     "output_type": "execute_result"
    }
   ],
   "source": [
    "torchvision.__version__"
   ]
  },
  {
   "cell_type": "markdown",
   "metadata": {},
   "source": [
    "## Import data"
   ]
  },
  {
   "cell_type": "code",
   "execution_count": 3,
   "metadata": {},
   "outputs": [],
   "source": [
    "folder=\"./dataset\"\n",
    "# transform = transforms.Compose([transforms.ToTensor()])\n",
    "data_train_val=torchvision.datasets.FashionMNIST(root=folder,train=True,download=True,transform=None)\n",
    "data_test=torchvision.datasets.FashionMNIST(root=folder,train=False,download=True,transform=None)\n",
    "classes=data_test.classes"
   ]
  },
  {
   "cell_type": "markdown",
   "metadata": {},
   "source": [
    "### 1. Data Preparation (10 points)\n",
    "- (a) Data cleansing and transformation (5 points)"
   ]
  },
  {
   "cell_type": "code",
   "execution_count": 4,
   "metadata": {},
   "outputs": [],
   "source": [
    "class dataset(torch.utils.data.Dataset):\n",
    "    def __init__(self, inputs, targets, trans=None):\n",
    "        self.x = inputs\n",
    "        self.y = targets\n",
    "        self.trans=trans\n",
    "\n",
    "    def __len__(self):\n",
    "        return self.x.size()[0]\n",
    "\n",
    "    def __getitem__(self, idx):\n",
    "\n",
    "        if self.trans == None:\n",
    "            # print(\"no trans\")\n",
    "            return ( self.x[idx], self.y[idx])\n",
    "        else:\n",
    "            # print(\"trans\")\n",
    "            return ( self.trans(self.x[idx]), self.y[idx]) \n",
    "\n",
    "def ds_trans(ds_input,trans_flag):\n",
    "    data_input=ds_input.data.clone().detach()\n",
    "    labels_input=ds_input.targets\n",
    "    if data_input.ndim <= 3:\n",
    "        transform_train_val = transforms.Compose([\n",
    "            transforms.ToPILImage(),\n",
    "            transforms.Resize((64, 64)), \n",
    "            transforms.RandomHorizontalFlip(0.5),\n",
    "            transforms.RandomAffine(degrees=(0,3), translate=(0,0.05), scale=None, shear=(0,0.05)),\n",
    "            transforms.RandomResizedCrop(size=(64,64),scale=(0.9,1.0),ratio=(0.9,1.1)),\n",
    "            transforms.ToTensor(),\n",
    "            transforms.Normalize(0.5, 0.5)\n",
    "        ])\n",
    "        transform_test = transforms.Compose([\n",
    "            transforms.ToPILImage(),\n",
    "            transforms.Resize((64, 64)), \n",
    "            transforms.ToTensor(),\n",
    "            transforms.Normalize(0.5, 0.5)\n",
    "        ])\n",
    "    elif data_input.ndim == 4:\n",
    "        # Should not come here\n",
    "        print(\"WRONG!\")\n",
    "\n",
    "    if torch.isnan(data_input).any():\n",
    "        print(\"have NaN or Inf\")\n",
    "    data_input = data_input[:,None,:,:]\n",
    "    print(data_input.shape)\n",
    "    \n",
    "    if trans_flag==1:\n",
    "        flag_ds_new = dataset(data_input, labels_input, trans=transform_train_val)\n",
    "    elif trans_flag==2:\n",
    "        flag_ds_new = dataset(data_input, labels_input, trans=transform_test)\n",
    "    else:\n",
    "        flag_ds_new = dataset(data_input, labels_input, trans=None)\n",
    "    return (flag_ds_new)\n",
    "    "
   ]
  },
  {
   "cell_type": "code",
   "execution_count": 5,
   "metadata": {},
   "outputs": [
    {
     "name": "stdout",
     "output_type": "stream",
     "text": [
      "torch.Size([60000, 1, 28, 28])\n",
      "torch.Size([10000, 1, 28, 28])\n"
     ]
    }
   ],
   "source": [
    "ds_processed_train_val=ds_trans(ds_input=data_train_val,trans_flag=1)\n",
    "ds_processed_test=ds_trans(ds_input=data_test,trans_flag=2)\n",
    "# ds_processed.x.shape"
   ]
  },
  {
   "cell_type": "markdown",
   "metadata": {},
   "source": [
    "- (b) Data splitting (i.e., training, validation, and test splits) (5 points)"
   ]
  },
  {
   "cell_type": "code",
   "execution_count": 6,
   "metadata": {},
   "outputs": [],
   "source": [
    "from torch.utils.data.sampler import SubsetRandomSampler\n",
    "\n",
    "random_seed=22\n",
    "indices = list(range(data_train_val.targets.shape[0]))\n",
    "np.random.seed(random_seed)\n",
    "np.random.shuffle(indices)\n",
    "\n",
    "indices_train=indices[:50000]\n",
    "indices_val=indices[50000:]\n",
    "\n",
    "ds_processed_train_sampler=SubsetRandomSampler(indices_train)\n",
    "ds_processed_val_sampler=SubsetRandomSampler(indices_val)\n",
    "\n",
    "# batch_size=64\n",
    "batch_size=256\n",
    "num_workers=10\n",
    "loader_train = torch.utils.data.DataLoader(ds_processed_train_val, batch_size=batch_size,sampler=ds_processed_train_sampler,\n",
    "                                            num_workers=num_workers)\n",
    "loader_val = torch.utils.data.DataLoader(ds_processed_train_val, batch_size=batch_size,sampler=ds_processed_val_sampler,\n",
    "                                            num_workers=num_workers)\n",
    "loader_test = torch.utils.data.DataLoader(ds_processed_test, batch_size=batch_size,\n",
    "                                          shuffle=True, num_workers=num_workers)"
   ]
  },
  {
   "cell_type": "code",
   "execution_count": 7,
   "metadata": {},
   "outputs": [
    {
     "name": "stdout",
     "output_type": "stream",
     "text": [
      "torch.Size([256, 1, 64, 64])\n",
      "torch.Size([256])\n"
     ]
    }
   ],
   "source": [
    "for batch_idx, (inputs, targets) in enumerate(loader_train):\n",
    "    break\n",
    "print(inputs.shape)\n",
    "print(targets.shape)"
   ]
  },
  {
   "cell_type": "markdown",
   "metadata": {},
   "source": [
    "## 2. Plot Sample Image"
   ]
  },
  {
   "cell_type": "code",
   "execution_count": 8,
   "metadata": {},
   "outputs": [
    {
     "data": {
      "image/png": "[encoded data removed]",
      "text/plain": [
       "<Figure size 800x800 with 16 Axes>"
      ]
     },
     "metadata": {},
     "output_type": "display_data"
    },
    {
     "data": {
      "text/plain": [
       "['T-shirt/top',\n",
       " 'Trouser',\n",
       " 'Pullover',\n",
       " 'Dress',\n",
       " 'Coat',\n",
       " 'Sandal',\n",
       " 'Shirt',\n",
       " 'Sneaker',\n",
       " 'Bag',\n",
       " 'Ankle boot']"
      ]
     },
     "execution_count": 8,
     "metadata": {},
     "output_type": "execute_result"
    }
   ],
   "source": [
    "import matplotlib.pyplot as plt\n",
    "figure = plt.figure(figsize = (8,8))\n",
    "cols, rows = 4, 4\n",
    "ids=torch.randint(len(data_test), size = (cols*rows,))\n",
    "for i in range (1, cols*rows + 1):\n",
    "    image, label = data_test[ids[i-1].item()]\n",
    "    figure.add_subplot(rows, cols, i)\n",
    "    plt.title(classes[label])\n",
    "    plt.axis('off')\n",
    "    # plt.imshow(image.squeeze(), cmap='gray')\n",
    "    plt.imshow(image, cmap='gray')\n",
    "    # plt.imshow(image.squeeze())\n",
    "plt.show()\n",
    "classes"
   ]
  },
  {
   "cell_type": "markdown",
   "metadata": {},
   "source": [
    "## 3. Model Selection (20 points)\n",
    "- (a) Algorithm selection: SqueezeNet\n",
    "- (b) Model building: Developing and tuning selected model (Select best learning rate and optimizer)\n",
    "- (c) Model evaluation: Proper evaluation metrics (i.e., accuracy, precision, recall, F1-score) and qualitative analysis (i.e., confusion matrices) for classification on test set. (5 points)"
   ]
  },
  {
   "cell_type": "code",
   "execution_count": 9,
   "metadata": {},
   "outputs": [],
   "source": [
    "from sklearn.metrics import confusion_matrix\n",
    "from sklearn.metrics import accuracy_score, precision_score, recall_score, f1_score\n",
    "\n",
    "def trainloop (dataloader, model, loss_fn, optimizer,device):\n",
    "    size = len(dataloader.dataset)\n",
    "    model.train()\n",
    "    for batch, (X,y) in enumerate(dataloader):\n",
    "        X,y=X.to(device),y.to(device)\n",
    "        \n",
    "        # Compute the error rate\n",
    "        prediction = model(X)\n",
    "        loss = loss_fn(prediction, y)\n",
    "        \n",
    "        # Backpropagation\n",
    "        optimizer.zero_grad()\n",
    "        loss.backward()\n",
    "        optimizer.step()\n",
    "        \n",
    "        if batch % 100 == 0:\n",
    "            loss, current = loss.item(), batch*len(X)\n",
    "            print(f'loss:{loss:>7f} [{current:>5d}/{size:>5d}]')\n",
    "            \n",
    "def evaluate (dataloader, model, loss_fn,device):\n",
    "    # size = len(dataloader.dataset)\n",
    "    size = len(dataloader.sampler)\n",
    "    num_batches = len(dataloader)\n",
    "    model.eval()\n",
    "    test_loss, correct = 0, 0\n",
    "    Y_pred=[]\n",
    "    Y_true=[]\n",
    "    with torch.no_grad():\n",
    "        for X,y in dataloader:\n",
    "            X,y = X.to(device),y.to(device)\n",
    "            pred = model(X)\n",
    "            test_loss += loss_fn(pred, y).item()\n",
    "            correct += (pred.argmax(1) == y).type(torch.float).sum().item()\n",
    "            Y_pred.append(pred.argmax(1).cpu().numpy())\n",
    "            Y_true.append(y.cpu().numpy())\n",
    "    test_loss /= num_batches\n",
    "    correct /= size\n",
    "    print(f'Accuracy: {(100*correct):>0.1f}%, Avg loss: {test_loss:>8f} \\n')\n",
    "    accuracy=100*correct\n",
    "    Y_pred=np.concatenate(Y_pred)\n",
    "    Y_true=np.concatenate(Y_true)\n",
    "    accuracy2=accuracy_score(Y_true,Y_pred)\n",
    "    # print(f'Accuracy2: {(accuracy2*100):>0.1f}')\n",
    "    precision = precision_score(Y_true, Y_pred, average='macro')\n",
    "    recall = recall_score(Y_true, Y_pred, average='macro')\n",
    "    f1 = f1_score(Y_true, Y_pred, average='macro')\n",
    "    cm = confusion_matrix(Y_true, Y_pred)\n",
    "    print(\"accuracy, precision, recall, f1, test_loss:\")\n",
    "    print(accuracy, precision, recall, f1, test_loss)\n",
    "    return [accuracy, precision, recall, f1, test_loss], cm"
   ]
  },
  {
   "cell_type": "markdown",
   "metadata": {},
   "source": [
    "## Retrain model with the best learning rate and optimizer\n",
    "We retrain the model because in the cross validation we don't use the validation dataset for training. For the purpose of the best usage of dataset, we use all 60000 dataset in previous training and validation to train the model, and then estimate the final performance on the testing dataset."
   ]
  },
  {
   "cell_type": "code",
   "execution_count": 10,
   "metadata": {},
   "outputs": [],
   "source": [
    "def build_train_best_model(loader_train,loader_test,learning_rate,id_optimizer):\n",
    "    device ='cuda' if torch.cuda.is_available else 'cpu'\n",
    "    print(f'Using {device} device')\n",
    "\n",
    "    # You can try different if necessary\n",
    "    \n",
    "    # model = torch.hub.load('pytorch/vision:v0.10.0', 'wide_resnet50_2', pretrained=True)\n",
    "    # model=torchvision.models.vgg11()\n",
    "    # model = torch.hub.load('pytorch/vision:v0.10.0', 'densenet121', pretrained=False)\n",
    "    # model = torch.hub.load('pytorch/vision:v0.10.0', 'densenet121', weights='DenseNet121_Weights.IMAGENET1K_V1')\n",
    "    model=torchvision.models.squeezenet1_0(weights='SqueezeNet1_0_Weights.IMAGENET1K_V1')\n",
    "    \n",
    "    # model\n",
    "    # model.conv1=torch.nn.Conv2d(1, 64, kernel_size=(7, 7), stride=(2, 2), padding=(3, 3), bias=False)\n",
    "    # model.features[0]=torch.nn.Conv2d(1, 64, kernel_size=(3, 3), stride=(1, 1), padding=(1, 1)) # vgg\n",
    "    # model.features[0]=torch.nn.Conv2d(1, 64, kernel_size=(7, 7), stride=(2, 2), padding=(3, 3)) # densenet121\n",
    "    model.features[0]=torch.nn.Conv2d(1, 96, kernel_size=(7, 7), stride=(2, 2)) # SqueezeNet\n",
    "\n",
    "    model=model.to(device)\n",
    "    # model\n",
    "\n",
    "    # Define hyperparameters\n",
    "    # learning_rate = 1e-4\n",
    "    epochs = 100\n",
    "\n",
    "    # Loss Function\n",
    "    loss_fn = nn.CrossEntropyLoss()\n",
    "\n",
    "    # Optimizer\n",
    "    if id_optimizer==0:\n",
    "        optimizer = torch.optim.Adam(model.parameters(), lr=learning_rate)\n",
    "    elif id_optimizer==1:\n",
    "        optimizer = torch.optim.RMSprop(model.parameters(), lr=learning_rate)\n",
    "    elif id_optimizer==2:\n",
    "        optimizer = torch.optim.SGD(model.parameters(), lr=learning_rate, momentum=0.9)\n",
    "    \n",
    "    # Training loop\n",
    "    for i in range(epochs):\n",
    "        print(f\"Epoch {i+1}\")\n",
    "        # print(f\"Epoch {i+1}\\n-------------------------------\")\n",
    "        trainloop(loader_train, model, loss_fn, optimizer,device)\n",
    "        # trainloop(loader_test, model, loss_fn, optimizer,device) # for testing\n",
    "\n",
    "        if i%25==0:\n",
    "            print(\"Training Dataset Error:\")\n",
    "            evaluate(loader_train, model, loss_fn,device)\n",
    "            print(\"Test Dataset Error:\");\n",
    "            evaluate(loader_test, model, loss_fn,device)\n",
    "\n",
    "    print(\"Training Dataset Error:\")\n",
    "    result_train,cm_train=evaluate(loader_train, model, loss_fn,device)\n",
    "    print(\"Testing Dataset Error:\");\n",
    "    result_test,cm_test=evaluate(loader_test, model, loss_fn,device)\n",
    "\n",
    "    results=[result_train,result_test]\n",
    "\n",
    "    return model"
   ]
  },
  {
   "cell_type": "code",
   "execution_count": 11,
   "metadata": {},
   "outputs": [
    {
     "name": "stdout",
     "output_type": "stream",
     "text": [
      "Using cuda device\n",
      "Epoch 1\n",
      "loss:17.225590 [    0/60000]\n",
      "loss:0.902296 [25600/60000]\n",
      "loss:0.723794 [51200/60000]\n",
      "Training Dataset Error:\n",
      "Accuracy: 76.9%, Avg loss: 0.607505 \n",
      "\n",
      "accuracy, precision, recall, f1, test_loss:\n",
      "76.92 0.7786653378704618 0.7692 0.7533675667195068 0.6075053873214316\n",
      "Test Dataset Error:\n",
      "Accuracy: 75.5%, Avg loss: 0.647284 \n",
      "\n",
      "accuracy, precision, recall, f1, test_loss:\n",
      "75.52 0.7822344744006001 0.7552 0.7383606805569625 0.6472840823233128\n",
      "Epoch 2\n",
      "loss:0.737088 [    0/60000]\n",
      "loss:0.478971 [25600/60000]\n",
      "loss:0.365290 [51200/60000]\n",
      "Epoch 3\n",
      "loss:0.426358 [    0/60000]\n",
      "loss:0.345666 [25600/60000]\n",
      "loss:0.540306 [51200/60000]\n",
      "Epoch 4\n",
      "loss:0.392383 [    0/60000]\n"
     ]
    }
   ],
   "source": [
    "loader_train_all=torch.utils.data.DataLoader(ds_processed_train_val, batch_size=batch_size,\n",
    "                                          shuffle=True, num_workers=num_workers)\n",
    "learning_rate=1e-3\n",
    "id_optimizer=0\n",
    "model_best=build_train_best_model(loader_train_all,loader_test,learning_rate,id_optimizer)\n",
    "\n"
   ]
  },
  {
   "cell_type": "markdown",
   "metadata": {},
   "source": [
    "## Prediction for a single image"
   ]
  },
  {
   "cell_type": "code",
   "execution_count": null,
   "metadata": {},
   "outputs": [
    {
     "name": "stdout",
     "output_type": "stream",
     "text": [
      "7208\n",
      "label_pred:  5\n",
      "label_treu:  5\n"
     ]
    },
    {
     "data": {
      "image/png": "[encoded data removed]",
      "text/plain": [
       "<Figure size 400x400 with 1 Axes>"
      ]
     },
     "metadata": {},
     "output_type": "display_data"
    }
   ],
   "source": [
    "import matplotlib.pyplot as plt\n",
    "figure = plt.figure(figsize = (4,4))\n",
    "cols, rows = 1, 1\n",
    "ids=torch.randint(len(data_test), size = (cols*rows,))\n",
    "\n",
    "print(ids.item())\n",
    "\n",
    "\n",
    "image_tensor,label_tensor=ds_processed_test[ids.item()]\n",
    "image=transforms.ToPILImage()(image_tensor[0,:,:])\n",
    "image_tensor=image_tensor[None,:,:,:]\n",
    "label=label_tensor.item()\n",
    "\n",
    "model=model_best\n",
    "model.eval()\n",
    "# model.train()\n",
    "device='cuda'\n",
    "X,y = image_tensor.to(device),label_tensor.to(device)\n",
    "# X=X[None,:,:,:]\n",
    "pred = model(X)\n",
    "label_pred=pred.argmax(1).item()\n",
    "print(\"label_pred: \",label_pred)\n",
    "print(\"label_treu: \", label)\n",
    "\n",
    "figure.add_subplot(rows, cols, 1)\n",
    "plt.title(str(label)+\" \"+classes[label])\n",
    "plt.axis('off')\n",
    "plt.imshow(image, cmap='gray')\n",
    "plt.show()"
   ]
  }
 ],
 "metadata": {
  "kernelspec": {
   "display_name": "fashion",
   "language": "python",
   "name": "python3"
  },
  "language_info": {
   "codemirror_mode": {
    "name": "ipython",
    "version": 3
   },
   "file_extension": ".py",
   "mimetype": "text/x-python",
   "name": "python",
   "nbconvert_exporter": "python",
   "pygments_lexer": "ipython3",
   "version": "3.10.13"
  }
 },
 "nbformat": 4,
 "nbformat_minor": 2
}
